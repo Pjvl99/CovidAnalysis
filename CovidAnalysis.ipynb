{
 "cells": [
  {
   "cell_type": "code",
   "execution_count": 0,
   "metadata": {
    "autoscroll": "auto"
   },
   "outputs": [],
   "source": [
    "%spark2.pyspark\n",
    "\n",
    "from pyspark import SparkConf, SparkContext\n",
    "from pyspark.sql import SparkSession\n",
    "from pyspark.sql.functions import regexp_replace, col, when\n",
    "from pyspark.sql.types import IntegerType\n",
    "\n",
    "spark = SparkSession.builder.appName(\"CovidAnalysis\").enableHiveSupport().getOrCreate()"
   ]
  },
  {
   "cell_type": "code",
   "execution_count": 1,
   "metadata": {
    "autoscroll": "auto"
   },
   "outputs": [],
   "source": [
    "%spark2.pyspark\n",
    "\n",
    "spark.sql('''\n",
    "CREATE DATABASE IF NOT EXISTS covid\n",
    "''') \n"
   ]
  },
  {
   "cell_type": "code",
   "execution_count": 2,
   "metadata": {
    "autoscroll": "auto"
   },
   "outputs": [],
   "source": [
    "%spark2.pyspark\n",
    "\n",
    "spark.sql('''\n",
    "use covid\n",
    "''') \n"
   ]
  },
  {
   "cell_type": "code",
   "execution_count": 3,
   "metadata": {
    "autoscroll": "auto"
   },
   "outputs": [],
   "source": [
    "%spark2.pyspark\n",
    "\n",
    "spark.sql('''\n",
    "CREATE EXTERNAL TABLE IF NOT EXISTS place (\n",
    "\tid_state STRING,\n",
    "  \tstate STRING,\n",
    "  \tpopulation INT,\n",
    "  \tid_place INT\n",
    ")\n",
    "COMMENT 'Place id of USA'\n",
    "ROW FORMAT DELIMITED\n",
    "FIELDS TERMINATED BY ','\n",
    "STORED AS TEXTFILE\n",
    "LOCATION '/user/hdfs/covidData/place'\n",
    "TBLPROPERTIES (\"skip.header.line.count\"=\"1\")\n",
    "''') "
   ]
  },
  {
   "cell_type": "code",
   "execution_count": 4,
   "metadata": {
    "autoscroll": "auto"
   },
   "outputs": [],
   "source": [
    "%spark2.pyspark\n",
    "\n",
    "spark.sql('''\n",
    "create EXTERNAL TABLE IF NOT EXISTS health(\n",
    "  id_health int, id_place int)\n",
    "COMMENT 'Health id'\n",
    "ROW FORMAT DELIMITED\n",
    "FIELDS TERMINATED BY ','\n",
    "STORED AS TEXTFILE\n",
    "LOCATION '/user/hdfs/covidData/health'\n",
    "TBLPROPERTIES (\"skip.header.line.count\"=\"1\")\n",
    "''')"
   ]
  },
  {
   "cell_type": "code",
   "execution_count": 5,
   "metadata": {
    "autoscroll": "auto"
   },
   "outputs": [],
   "source": [
    "%spark2.pyspark\n",
    "\n",
    "spark.sql('''\n",
    "create external table IF NOT EXISTS us_state_vaccines(\n",
    "  \tid_us_state_vaccines INT,\n",
    "  \tdate_string date,\n",
    "\ttotal_vaccinations float,\n",
    "\ttotal_distributed float,\n",
    "\tpeople_vaccinated float,\n",
    "\tpeople_fully_vaccinated_per_hundred float,\n",
    "\ttotal_vaccinations_per_hundred float,\n",
    "    people_fully_vaccinated float,\n",
    "    people_vaccinated_per_hundred float,\n",
    "    distributed_per_hundred float,\n",
    "    daily_vaccinations_raw float,\n",
    "    daily_vaccinations float,\n",
    "    daily_vaccinations_per_million float,\n",
    "    share_doses_used float)\n",
    "COMMENT 'Vaccines in US'\n",
    "ROW FORMAT DELIMITED\n",
    "FIELDS TERMINATED BY ','\n",
    "STORED AS TEXTFILE\n",
    "LOCATION '/user/hdfs/covidData/us_state_vaccines'\n",
    "TBLPROPERTIES (\"skip.header.line.count\"=\"1\")\n",
    "''')\n",
    "\n"
   ]
  },
  {
   "cell_type": "code",
   "execution_count": 6,
   "metadata": {
    "autoscroll": "auto"
   },
   "outputs": [],
   "source": [
    "%spark2.pyspark\n",
    "spark.sql('''\n",
    "CREATE external TABLE IF NOT EXISTS hospital_beds_usa (\n",
    "\tid_hospital_beds_usa INT,\n",
    "  \ttype String,\n",
    "  \tbeds float,\n",
    "\tpopulation INT,\n",
    "  \tyear INT)\n",
    "COMMENT 'Hospital beds in USA'\n",
    "ROW FORMAT DELIMITED\n",
    "FIELDS TERMINATED BY ','\n",
    "STORED AS TEXTFILE\n",
    "LOCATION '/user/hdfs/covidData/hospital_beds_usa'\n",
    "TBLPROPERTIES (\"skip.header.line.count\"=\"1\")\n",
    "''')"
   ]
  },
  {
   "cell_type": "code",
   "execution_count": 7,
   "metadata": {
    "autoscroll": "auto"
   },
   "outputs": [],
   "source": [
    "%spark2.pyspark\n",
    "\n",
    "spark.sql('''\n",
    "CREATE external TABLE IF NOT EXISTS hospital_charges (\n",
    "\tid_hospital_charges INT,\n",
    "\ttotal_discharges INT,\n",
    "\taverage_covered_charges FLOAT,\n",
    "\taverage_total_payments FLOAT,\n",
    "\taverage_medicare_payments FLOAT)\n",
    "COMMENT 'Hospital charges in USA'\n",
    "ROW FORMAT DELIMITED\n",
    "FIELDS TERMINATED BY ','\n",
    "STORED AS TEXTFILE\n",
    "LOCATION '/user/hdfs/covidData/hospital_charges'\n",
    "TBLPROPERTIES (\"skip.header.line.count\"=\"1\")\n",
    "''')"
   ]
  },
  {
   "cell_type": "code",
   "execution_count": 8,
   "metadata": {
    "autoscroll": "auto"
   },
   "outputs": [],
   "source": [
    "%spark2.pyspark\n",
    "\n",
    "spark.sql('''\n",
    "CREATE  TABLE IF NOT EXISTS covid (\n",
    "\tdate_string DATE,\n",
    "\tcases INT,\n",
    "\tcases_avg_per_100k FLOAT,\n",
    "\tdeaths INT,\n",
    "\tdeaths_avg_per_100k FLOAT,\n",
    "    id_place INT)\n",
    "COMMENT 'Covid infections in USA'\n",
    "ROW FORMAT DELIMITED\n",
    "FIELDS TERMINATED BY ','\n",
    "STORED AS TEXTFILE\n",
    "LOCATION '/user/hdfs/covidData/covid'\n",
    "TBLPROPERTIES (\"skip.header.line.count\"=\"1\")\n",
    "''')"
   ]
  },
  {
   "cell_type": "code",
   "execution_count": 9,
   "metadata": {
    "autoscroll": "auto"
   },
   "outputs": [],
   "source": [
    "%spark2.pyspark\n",
    "\n",
    "spark.sql('''\n",
    "CREATE external TABLE IF NOT EXISTS prevention (\n",
    "\tid_prevention INT,\n",
    "    id_place INT)\n",
    "COMMENT 'prevention id'\n",
    "ROW FORMAT DELIMITED\n",
    "FIELDS TERMINATED BY ','\n",
    "STORED AS TEXTFILE\n",
    "LOCATION '/user/hdfs/covidData/prevention'\n",
    "TBLPROPERTIES (\"skip.header.line.count\"=\"1\")\n",
    "''')"
   ]
  },
  {
   "cell_type": "code",
   "execution_count": 10,
   "metadata": {
    "autoscroll": "auto"
   },
   "outputs": [],
   "source": [
    "%spark2.pyspark\n",
    "\n",
    "spark.sql('''\n",
    "CREATE external TABLE IF NOT EXISTS mask_usage (\n",
    "\tid_mask_usage INT,\n",
    "\tnever float,\n",
    "\trarely float,\n",
    "\tsometimes float,\n",
    "\tfrequently float,\n",
    "\talways float)\n",
    "COMMENT 'Mask usage'\n",
    "ROW FORMAT DELIMITED\n",
    "FIELDS TERMINATED BY ','\n",
    "STORED AS TEXTFILE\n",
    "LOCATION '/user/hdfs/covidData/mask_usage'\n",
    "TBLPROPERTIES (\"skip.header.line.count\"=\"1\")\n",
    "''')"
   ]
  },
  {
   "cell_type": "code",
   "execution_count": 11,
   "metadata": {
    "autoscroll": "auto"
   },
   "outputs": [],
   "source": [
    "%spark2.pyspark\n",
    "\n",
    "spark.sql('''\n",
    "CREATE external TABLE IF NOT EXISTS lockdowns (\n",
    "\tid_lockdown INT,\n",
    "\tdate_string DATE,\n",
    "\ttype String)\n",
    "COMMENT 'Lockdowns'\n",
    "ROW FORMAT DELIMITED\n",
    "FIELDS TERMINATED BY ','\n",
    "STORED AS TEXTFILE\n",
    "LOCATION '/user/hdfs/covidData/lockdowns'\n",
    "TBLPROPERTIES (\"skip.header.line.count\"=\"1\")\n",
    "''')"
   ]
  },
  {
   "cell_type": "code",
   "execution_count": 12,
   "metadata": {
    "autoscroll": "auto"
   },
   "outputs": [],
   "source": [
    "%spark2.pyspark\n",
    "\n",
    "spark.sql('''\n",
    "CREATE external TABLE IF NOT EXISTS macro_values (\n",
    "  \tyear INT,\n",
    "    population INT,\n",
    "\tinflation_rate FLOAT,\n",
    "\tgdp_per_capita INT,\n",
    "\thuman_development_index FLOAT,\n",
    "    id_economy INT)\n",
    "COMMENT 'Macro values'\n",
    "ROW FORMAT DELIMITED\n",
    "FIELDS TERMINATED BY ','\n",
    "STORED AS TEXTFILE\n",
    "LOCATION '/user/hdfs/covidData/macro_values'\n",
    "TBLPROPERTIES (\"skip.header.line.count\"=\"1\")\n",
    "''')"
   ]
  },
  {
   "cell_type": "code",
   "execution_count": 13,
   "metadata": {
    "autoscroll": "auto"
   },
   "outputs": [],
   "source": [
    "%spark2.pyspark\n",
    "\n",
    "spark.sql('''\n",
    "CREATE external TABLE IF NOT EXISTS unemployement (\n",
    "  \tdate_string DATE,\n",
    "\tunrate FLOAT,\n",
    "\tunrate_men FLOAT,\n",
    "\tunrate_women FLOAT,\n",
    "\tunrate_16_to_17 FLOAT,\n",
    "\tunrate_18_to_19 FLOAT,\n",
    "\tunrate_20_to_24 FLOAT,\n",
    "\tunrate_25_to_34 FLOAT,\n",
    "\tunrate_35_to_44 FLOAT,\n",
    "\tunrate_45_to_54 FLOAT,\n",
    "\tunrate_55_over FLOAT,\n",
    "  \tid_unemployement INT)\n",
    "COMMENT 'Unemployment'\n",
    "ROW FORMAT DELIMITED\n",
    "FIELDS TERMINATED BY ','\n",
    "STORED AS TEXTFILE\n",
    "LOCATION '/user/hdfs/covidData/unemployement'\n",
    "TBLPROPERTIES (\"skip.header.line.count\"=\"1\")\n",
    "''')"
   ]
  },
  {
   "cell_type": "code",
   "execution_count": 14,
   "metadata": {
    "autoscroll": "auto"
   },
   "outputs": [],
   "source": [
    "%spark2.pyspark\n",
    "\n",
    "spark.sql('''\n",
    "CREATE EXTERNAL TABLE IF NOT EXISTS min_wage (\n",
    "  year int,\n",
    "id_minwage INT,\n",
    "state_minimum_wage float,\n",
    "state_minimum_wage_2020_dollars  float,\n",
    "federal_minimum_wage float,\n",
    "federal_minumum_wage_2020_dollars float,\n",
    "effective_minimum_wage float,\n",
    "effective_minimum_wage_2020_dollars float,\n",
    "cpi_average float)\n",
    "COMMENT 'Min wage'\n",
    "ROW FORMAT DELIMITED\n",
    "FIELDS TERMINATED BY ','\n",
    "STORED AS TEXTFILE\n",
    "LOCATION '/user/hdfs/covidData/min_wage'\n",
    "TBLPROPERTIES (\"skip.header.line.count\"=\"1\")\n",
    "''')"
   ]
  },
  {
   "cell_type": "code",
   "execution_count": 15,
   "metadata": {
    "autoscroll": "auto"
   },
   "outputs": [],
   "source": [
    "%spark2.sql\n",
    "\n",
    "select * from min_wage\n",
    "\n"
   ]
  },
  {
   "cell_type": "code",
   "execution_count": 16,
   "metadata": {
    "autoscroll": "auto"
   },
   "outputs": [],
   "source": [
    "%spark2.sql\n",
    "\n",
    "select * from min_wage where year > 2007"
   ]
  },
  {
   "cell_type": "code",
   "execution_count": 17,
   "metadata": {
    "autoscroll": "auto"
   },
   "outputs": [],
   "source": [
    "%spark2.sql\n"
   ]
  }
 ],
 "metadata": {
  "kernelspec": {
   "display_name": "Spark 2.0.0",
   "language": "python",
   "name": "spark2"
  },
  "language_info": {
   "codemirror_mode": "text/python",
   "file_extension": ".py",
   "mimetype": "text/python",
   "name": "scala",
   "pygments_lexer": "python",
   "version": "3.6"
  }
 },
 "nbformat": 4,
 "nbformat_minor": 2
}
